{
 "cells": [
  {
   "cell_type": "code",
   "execution_count": 1,
   "metadata": {
    "collapsed": false
   },
   "outputs": [],
   "source": [
    "import cv2\n",
    "import dlib\n",
    "\n",
    "detector = dlib.get_frontal_face_detector()\n",
    "predictor = dlib.shape_predictor(\"C:/Users/Santhosh/Documents/Kaggle/Facial Keypoint Detection/shape_predictor_68_face_landmarks.dat\")\n",
    "\n",
    "image = cv2.imread('C:/Users/Santhosh/Documents/Kaggle/Facial Keypoint Detection/img/img_1.png')\n",
    "gray = cv2.cvtColor(image, cv2.COLOR_BGR2GRAY)\n",
    "cv2.imshow(\"image\", image)\n"
   ]
  },
  {
   "cell_type": "code",
   "execution_count": 3,
   "metadata": {
    "collapsed": false
   },
   "outputs": [
    {
     "name": "stdout",
     "output_type": "stream",
     "text": [
      "Number of faces detected: 1\n"
     ]
    }
   ],
   "source": [
    "#def get_landmarks(image):\n",
    "    \n",
    "detections = detector(image, 1)\n",
    "print(\"Number of faces detected: {}\".format(len(detections)))\n",
    "for k,d in enumerate(detections): #For all detected face instances individually\n",
    "        shape = predictor(image, d) #Draw Facial Landmarks with the predictor class\n",
    "        for i in range(1,68): #There are 68 landmark points on each face\n",
    "                cv2.circle(image, (shape.part(i).x, shape.part(i).y), 1, (0,0,255), thickness=2) #For each point, draw a red circle with thickness2 on the original frame\n",
    "\n",
    "        cv2.imshow(\"image\", image)\n",
    "        xlist = []\n",
    "        ylist = []\n",
    "        landmarks = []\n",
    "        for i in range(1,68): #Store X and Y coordinates in two lists\n",
    "            xlist.append(float(shape.part(i).x))\n",
    "            ylist.append(float(shape.part(i).y))\n",
    "            #print xlist\n",
    "            #print ylist\n",
    "            \n",
    "        #for x, y in zip(xlist, ylist): #Store all landmarks in one list in the format x1,y1,x2,y2,etc.\n",
    "            #landmarks.append(x)\n",
    "            #landmarks.append(y)\n",
    "    #if len(detections) > 0:\n",
    "        #return landmarks\n",
    "    #else: #If no faces are detected, return error message to other function to handle\n",
    "        #landmarks = \"error\"\n",
    "        #return landmarks"
   ]
  },
  {
   "cell_type": "code",
   "execution_count": 22,
   "metadata": {
    "collapsed": false
   },
   "outputs": [],
   "source": [
    "matrix = []\n",
    "for i in range(len(xlist)):\n",
    "    matrix.append([xlist[i], ylist[i]])"
   ]
  },
  {
   "cell_type": "code",
   "execution_count": 26,
   "metadata": {
    "collapsed": false
   },
   "outputs": [
    {
     "data": {
      "text/plain": [
       "[[98.0, 278.0],\n",
       " [106.0, 318.0],\n",
       " [116.0, 355.0],\n",
       " [134.0, 387.0],\n",
       " [164.0, 407.0],\n",
       " [204.0, 415.0],\n",
       " [247.0, 416.0],\n",
       " [286.0, 412.0],\n",
       " [320.0, 406.0],\n",
       " [355.0, 398.0],\n",
       " [387.0, 385.0],\n",
       " [405.0, 361.0],\n",
       " [413.0, 327.0],\n",
       " [411.0, 290.0],\n",
       " [408.0, 251.0],\n",
       " [403.0, 212.0],\n",
       " [108.0, 196.0],\n",
       " [126.0, 166.0],\n",
       " [159.0, 149.0],\n",
       " [196.0, 149.0],\n",
       " [232.0, 158.0],\n",
       " [272.0, 155.0],\n",
       " [305.0, 143.0],\n",
       " [340.0, 142.0],\n",
       " [372.0, 152.0],\n",
       " [390.0, 179.0],\n",
       " [257.0, 188.0],\n",
       " [260.0, 210.0],\n",
       " [264.0, 232.0],\n",
       " [267.0, 256.0],\n",
       " [231.0, 281.0],\n",
       " [249.0, 284.0],\n",
       " [268.0, 285.0],\n",
       " [285.0, 281.0],\n",
       " [301.0, 277.0],\n",
       " [148.0, 205.0],\n",
       " [164.0, 191.0],\n",
       " [187.0, 189.0],\n",
       " [210.0, 203.0],\n",
       " [188.0, 211.0],\n",
       " [165.0, 212.0],\n",
       " [296.0, 198.0],\n",
       " [315.0, 181.0],\n",
       " [338.0, 181.0],\n",
       " [357.0, 194.0],\n",
       " [340.0, 202.0],\n",
       " [317.0, 203.0],\n",
       " [208.0, 343.0],\n",
       " [231.0, 332.0],\n",
       " [254.0, 324.0],\n",
       " [270.0, 327.0],\n",
       " [285.0, 321.0],\n",
       " [306.0, 326.0],\n",
       " [330.0, 335.0],\n",
       " [310.0, 343.0],\n",
       " [292.0, 344.0],\n",
       " [275.0, 346.0],\n",
       " [258.0, 346.0],\n",
       " [235.0, 349.0],\n",
       " [219.0, 341.0],\n",
       " [255.0, 335.0],\n",
       " [271.0, 336.0],\n",
       " [287.0, 333.0],\n",
       " [319.0, 334.0],\n",
       " [289.0, 327.0],\n",
       " [274.0, 329.0],\n",
       " [257.0, 330.0]]"
      ]
     },
     "execution_count": 26,
     "metadata": {},
     "output_type": "execute_result"
    }
   ],
   "source": [
    "matrix"
   ]
  },
  {
   "cell_type": "code",
   "execution_count": null,
   "metadata": {
    "collapsed": true
   },
   "outputs": [],
   "source": []
  }
 ],
 "metadata": {
  "kernelspec": {
   "display_name": "Python 2",
   "language": "python",
   "name": "python2"
  },
  "language_info": {
   "codemirror_mode": {
    "name": "ipython",
    "version": 2
   },
   "file_extension": ".py",
   "mimetype": "text/x-python",
   "name": "python",
   "nbconvert_exporter": "python",
   "pygments_lexer": "ipython2",
   "version": "2.7.12"
  }
 },
 "nbformat": 4,
 "nbformat_minor": 0
}
