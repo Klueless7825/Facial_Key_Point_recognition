{
 "cells": [
  {
   "cell_type": "code",
   "execution_count": 2,
   "metadata": {
    "collapsed": false
   },
   "outputs": [],
   "source": [
    "import cv2\n",
    "import dlib\n",
    "from scipy.misc.pilutil import Image\n",
    "\n",
    "detector = dlib.get_frontal_face_detector()\n",
    "predictor = dlib.shape_predictor(\"C:/Users/Santhosh/Documents/Kaggle/Facial Keypoint Detection/shape_predictor_68_face_landmarks.dat\")\n",
    "\n",
    "image = Image.open('C:/Users/Santhosh/Documents/Kaggle/Facial Keypoint Detection/img/img_1.png').convert('L')\n"
   ]
  },
  {
   "cell_type": "code",
   "execution_count": 3,
   "metadata": {
    "collapsed": false
   },
   "outputs": [
    {
     "name": "stdout",
     "output_type": "stream",
     "text": [
      "Number of faces detected: 1\n"
     ]
    }
   ],
   "source": [
    "#def get_landmarks(image):\n",
    "    \n",
    "detections = detector(image, 1)\n",
    "print(\"Number of faces detected: {}\".format(len(detections)))\n",
    "for k,d in enumerate(detections): #For all detected face instances individually\n",
    "        shape = predictor(image, d) #Draw Facial Landmarks with the predictor class\n",
    "        for i in range(1,68): #There are 68 landmark points on each face\n",
    "                cv2.circle(image, (shape.part(i).x, shape.part(i).y), 1, (0,0,255), thickness=2) #For each point, draw a red circle with thickness2 on the original frame\n",
    "\n",
    "        cv2.imshow(\"image\", image)\n",
    "        xlist = []\n",
    "        ylist = []\n",
    "        landmarks = []\n",
    "        for i in range(1,68): #Store X and Y coordinates in two lists\n",
    "            xlist.append(float(shape.part(i).x))\n",
    "            ylist.append(float(shape.part(i).y))\n",
    "            #print xlist\n",
    "            #print ylist\n",
    "            \n",
    "        #for x, y in zip(xlist, ylist): #Store all landmarks in one list in the format x1,y1,x2,y2,etc.\n",
    "            #landmarks.append(x)\n",
    "            #landmarks.append(y)\n",
    "    #if len(detections) > 0:\n",
    "        #return landmarks\n",
    "    #else: #If no faces are detected, return error message to other function to handle\n",
    "        #landmarks = \"error\"\n",
    "        #return landmarks"
   ]
  },
  {
   "cell_type": "code",
   "execution_count": 22,
   "metadata": {
    "collapsed": false
   },
   "outputs": [],
   "source": [
    "matrix = []\n",
    "for i in range(len(xlist)):\n",
    "    matrix.append([xlist[i], ylist[i]])"
   ]
  },
  {
   "cell_type": "code",
   "execution_count": null,
   "metadata": {
    "collapsed": true
   },
   "outputs": [],
   "source": []
  }
 ],
 "metadata": {
  "kernelspec": {
   "display_name": "Python 2",
   "language": "python",
   "name": "python2"
  },
  "language_info": {
   "codemirror_mode": {
    "name": "ipython",
    "version": 2
   },
   "file_extension": ".py",
   "mimetype": "text/x-python",
   "name": "python",
   "nbconvert_exporter": "python",
   "pygments_lexer": "ipython2",
   "version": "2.7.12"
  }
 },
 "nbformat": 4,
 "nbformat_minor": 0
}
